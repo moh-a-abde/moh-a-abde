{
  "cells": [
    {
      "cell_type": "markdown",
      "metadata": {
        "id": "view-in-github",
        "colab_type": "text"
      },
      "source": [
        "<a href=\"https://colab.research.google.com/github/moh-a-abde/moh-a-abde/blob/main/SVM_nuScenes.ipynb\" target=\"_parent\"><img src=\"https://colab.research.google.com/assets/colab-badge.svg\" alt=\"Open In Colab\"/></a>"
      ]
    },
    {
      "cell_type": "code",
      "source": [
        "# uncomment and run to get nuscenes dataset\n",
        "#!mkdir -p /data/sets/nuscenes  # Make the directory to store the nuScenes dataset in.\n",
        "\n",
        "#!wget https://www.nuscenes.org/data/v1.0-mini.tgz  # Download the nuScenes mini split.\n",
        "\n",
        "#!tar -xf v1.0-mini.tgz -C /data/sets/nuscenes  # Uncompress the nuScenes mini split.\n",
        "\n",
        "!pip install nuscenes-devkit &> /dev/null  # Install nuScenes."
      ],
      "metadata": {
        "id": "UkQjtmwfPLcg"
      },
      "id": "UkQjtmwfPLcg",
      "execution_count": null,
      "outputs": []
    },
    {
      "cell_type": "code",
      "execution_count": null,
      "id": "1dfb44a4",
      "metadata": {
        "id": "1dfb44a4"
      },
      "outputs": [],
      "source": [
        "#import libraries\n",
        "import time\n",
        "import os\n",
        "\n",
        "import numpy as np\n",
        "from numpy.random import randn\n",
        "import pandas as pd\n",
        "\n",
        "import math\n",
        "from math import sqrt\n",
        "\n",
        "import matplotlib.pyplot as plt\n",
        "from matplotlib import pyplot\n",
        "import seaborn as sns\n",
        "\n",
        "\n",
        "import sklearn.preprocessing\n",
        "from sklearn.preprocessing import StandardScaler, MinMaxScaler\n",
        "from sklearn.model_selection import train_test_split, StratifiedKFold, cross_val_score\n",
        "from sklearn import metrics\n",
        "from sklearn.metrics import accuracy_score, precision_score, f1_score, recall_score, multilabel_confusion_matrix\n",
        "from sklearn.metrics import classification_report, mean_squared_error, confusion_matrix, balanced_accuracy_score\n",
        "from sklearn.svm import SVC\n",
        "from sklearn.multiclass import OneVsRestClassifier, OneVsOneClassifier"
      ]
    },
    {
      "cell_type": "code",
      "source": [
        "from google.colab import drive\n",
        "drive.mount('/content/drive')"
      ],
      "metadata": {
        "colab": {
          "base_uri": "https://localhost:8080/"
        },
        "id": "JFsKHjLtFoNG",
        "outputId": "d898ee0c-cead-42d3-85bf-3a87bd4a69c1"
      },
      "id": "JFsKHjLtFoNG",
      "execution_count": null,
      "outputs": [
        {
          "output_type": "stream",
          "name": "stdout",
          "text": [
            "Mounted at /content/drive\n"
          ]
        }
      ]
    },
    {
      "cell_type": "code",
      "source": [
        "##nuSCenes\n",
        "import numpy as np\n",
        "from nuscenes.nuscenes import NuScenes\n",
        "from nuscenes.utils.data_classes import LidarPointCloud\n",
        "from nuscenes.utils.geometry_utils import transform_matrix\n",
        "from nuscenes.eval.detection.config import config_factory\n",
        "from nuscenes.eval.detection.data_classes import DetectionBox\n",
        "from nuscenes.eval.detection.evaluate import NuScenesEval\n",
        "from sklearn.metrics import classification_report, accuracy_score\n",
        "\n",
        "# Load the nuScenes dataset\n",
        "nusc = NuScenes(version='v1.0-mini', dataroot='/data/sets/nuscenes', verbose=True)\n",
        "\n",
        "# Initialize lists for features and labels\n",
        "features = []\n",
        "labels = []\n",
        "\n",
        "# Iterate through samples and extract relevant data\n",
        "for sample in nusc.sample:\n",
        "    for ann_token in sample['anns']:\n",
        "        ann = nusc.get('sample_annotation', ann_token)\n",
        "\n",
        "        # Extract relevant features (e.g., position, dimensions)\n",
        "        x, y, z = ann['translation']\n",
        "        length, width, height = ann['size']\n",
        "\n",
        "        # Append features and corresponding label\n",
        "        features.append([x, y, z, length, width, height])\n",
        "        labels.append(ann['category_name'])\n",
        "\n",
        "# Convert to numpy arrays\n",
        "features = np.array(features)\n",
        "labels = np.array(labels)"
      ],
      "metadata": {
        "colab": {
          "base_uri": "https://localhost:8080/",
          "height": 360
        },
        "id": "EoBmGiE1Glfg",
        "outputId": "7a8a61e5-600f-4abb-e2aa-456b751ffb51"
      },
      "id": "EoBmGiE1Glfg",
      "execution_count": null,
      "outputs": [
        {
          "output_type": "error",
          "ename": "AssertionError",
          "evalue": "Database version not found: /data/sets/nuscenes/v1.0-mini",
          "traceback": [
            "\u001b[0;31m---------------------------------------------------------------------------\u001b[0m",
            "\u001b[0;31mAssertionError\u001b[0m                            Traceback (most recent call last)",
            "\u001b[0;32m<ipython-input-9-2abd2faa2759>\u001b[0m in \u001b[0;36m<cell line: 12>\u001b[0;34m()\u001b[0m\n\u001b[1;32m     10\u001b[0m \u001b[0;34m\u001b[0m\u001b[0m\n\u001b[1;32m     11\u001b[0m \u001b[0;31m# Load the nuScenes dataset\u001b[0m\u001b[0;34m\u001b[0m\u001b[0;34m\u001b[0m\u001b[0m\n\u001b[0;32m---> 12\u001b[0;31m \u001b[0mnusc\u001b[0m \u001b[0;34m=\u001b[0m \u001b[0mNuScenes\u001b[0m\u001b[0;34m(\u001b[0m\u001b[0mversion\u001b[0m\u001b[0;34m=\u001b[0m\u001b[0;34m'v1.0-mini'\u001b[0m\u001b[0;34m,\u001b[0m \u001b[0mdataroot\u001b[0m\u001b[0;34m=\u001b[0m\u001b[0;34m'/data/sets/nuscenes'\u001b[0m\u001b[0;34m,\u001b[0m \u001b[0mverbose\u001b[0m\u001b[0;34m=\u001b[0m\u001b[0;32mTrue\u001b[0m\u001b[0;34m)\u001b[0m\u001b[0;34m\u001b[0m\u001b[0;34m\u001b[0m\u001b[0m\n\u001b[0m\u001b[1;32m     13\u001b[0m \u001b[0;34m\u001b[0m\u001b[0m\n\u001b[1;32m     14\u001b[0m \u001b[0;31m# Initialize lists for features and labels\u001b[0m\u001b[0;34m\u001b[0m\u001b[0;34m\u001b[0m\u001b[0m\n",
            "\u001b[0;32m/usr/local/lib/python3.10/dist-packages/nuscenes/nuscenes.py\u001b[0m in \u001b[0;36m__init__\u001b[0;34m(self, version, dataroot, verbose, map_resolution)\u001b[0m\n\u001b[1;32m     60\u001b[0m                             'ego_pose', 'log', 'scene', 'sample', 'sample_data', 'sample_annotation', 'map']\n\u001b[1;32m     61\u001b[0m \u001b[0;34m\u001b[0m\u001b[0m\n\u001b[0;32m---> 62\u001b[0;31m         \u001b[0;32massert\u001b[0m \u001b[0mosp\u001b[0m\u001b[0;34m.\u001b[0m\u001b[0mexists\u001b[0m\u001b[0;34m(\u001b[0m\u001b[0mself\u001b[0m\u001b[0;34m.\u001b[0m\u001b[0mtable_root\u001b[0m\u001b[0;34m)\u001b[0m\u001b[0;34m,\u001b[0m \u001b[0;34m'Database version not found: {}'\u001b[0m\u001b[0;34m.\u001b[0m\u001b[0mformat\u001b[0m\u001b[0;34m(\u001b[0m\u001b[0mself\u001b[0m\u001b[0;34m.\u001b[0m\u001b[0mtable_root\u001b[0m\u001b[0;34m)\u001b[0m\u001b[0;34m\u001b[0m\u001b[0;34m\u001b[0m\u001b[0m\n\u001b[0m\u001b[1;32m     63\u001b[0m \u001b[0;34m\u001b[0m\u001b[0m\n\u001b[1;32m     64\u001b[0m         \u001b[0mstart_time\u001b[0m \u001b[0;34m=\u001b[0m \u001b[0mtime\u001b[0m\u001b[0;34m.\u001b[0m\u001b[0mtime\u001b[0m\u001b[0;34m(\u001b[0m\u001b[0;34m)\u001b[0m\u001b[0;34m\u001b[0m\u001b[0;34m\u001b[0m\u001b[0m\n",
            "\u001b[0;31mAssertionError\u001b[0m: Database version not found: /data/sets/nuscenes/v1.0-mini"
          ]
        }
      ]
    },
    {
      "cell_type": "code",
      "source": [
        "# Extract unique labels\n",
        "unique_labels = np.unique(labels)\n",
        "\n",
        "# Print the unique labels\n",
        "print(unique_labels)"
      ],
      "metadata": {
        "colab": {
          "base_uri": "https://localhost:8080/"
        },
        "id": "fKcI2X-doiZS",
        "outputId": "4fc98492-8043-4dc7-fb47-9d1e0fb7fe80"
      },
      "id": "fKcI2X-doiZS",
      "execution_count": null,
      "outputs": [
        {
          "output_type": "stream",
          "name": "stdout",
          "text": [
            "['human.pedestrian.adult' 'human.pedestrian.child'\n",
            " 'human.pedestrian.construction_worker'\n",
            " 'human.pedestrian.personal_mobility' 'human.pedestrian.police_officer'\n",
            " 'movable_object.barrier' 'movable_object.debris'\n",
            " 'movable_object.pushable_pullable' 'movable_object.trafficcone'\n",
            " 'static_object.bicycle_rack' 'vehicle.bicycle' 'vehicle.bus.bendy'\n",
            " 'vehicle.bus.rigid' 'vehicle.car' 'vehicle.construction'\n",
            " 'vehicle.motorcycle' 'vehicle.trailer' 'vehicle.truck']\n"
          ]
        }
      ]
    },
    {
      "cell_type": "code",
      "source": [
        "from sklearn.model_selection import train_test_split\n",
        "\n",
        "# Split the data into training (60%) and temporary (40%) sets\n",
        "X_train, X_temp, y_train, y_temp = train_test_split(features, labels, test_size=0.4, random_state=42)\n",
        "\n",
        "# Split the temporary set into validation (50% of 40% = 20%) and test (50% of 40% = 20%) sets\n",
        "X_val, X_test, y_val, y_test = train_test_split(X_temp, y_temp, test_size=0.5, random_state=42)\n"
      ],
      "metadata": {
        "id": "jUhgpMSXmB4S"
      },
      "id": "jUhgpMSXmB4S",
      "execution_count": null,
      "outputs": []
    },
    {
      "cell_type": "code",
      "source": [
        "from sklearn.svm import SVC\n",
        "from sklearn.metrics import classification_report, accuracy_score\n",
        "\n",
        "# Initialize the SVM model with specified parameters\n",
        "svm_model = SVC(kernel='rbf', C=10, gamma=0.01, random_state=42)\n",
        "\n",
        "# Train the SVM model\n",
        "svm_model.fit(X_train, y_train)\n",
        "\n",
        "# Validate the model on the validation set\n",
        "y_val_pred = svm_model.predict(X_val)\n",
        "print(f\"Validation Accuracy: {accuracy_score(y_val, y_val_pred)}\")\n",
        "\n",
        "print(classification_report(y_val, y_val_pred, target_names=unique_labels))\n"
      ],
      "metadata": {
        "colab": {
          "base_uri": "https://localhost:8080/"
        },
        "id": "xli8CgNGmSRv",
        "outputId": "dcf423b1-3d31-4343-cbb6-fe6c01fb2663"
      },
      "id": "xli8CgNGmSRv",
      "execution_count": null,
      "outputs": [
        {
          "output_type": "stream",
          "name": "stdout",
          "text": [
            "Validation Accuracy: 0.9902912621359223\n",
            "                                      precision    recall  f1-score   support\n",
            "\n",
            "              human.pedestrian.adult       0.99      1.00      0.99       978\n",
            "              human.pedestrian.child       0.33      0.17      0.22         6\n",
            "human.pedestrian.construction_worker       1.00      1.00      1.00        31\n",
            "  human.pedestrian.personal_mobility       1.00      1.00      1.00         5\n",
            "     human.pedestrian.police_officer       1.00      1.00      1.00         6\n",
            "              movable_object.barrier       1.00      1.00      1.00       512\n",
            "               movable_object.debris       1.00      1.00      1.00         1\n",
            "    movable_object.pushable_pullable       0.92      1.00      0.96        11\n",
            "          movable_object.trafficcone       1.00      1.00      1.00       248\n",
            "          static_object.bicycle_rack       1.00      1.00      1.00        10\n",
            "                     vehicle.bicycle       1.00      1.00      1.00        46\n",
            "                   vehicle.bus.bendy       1.00      1.00      1.00        12\n",
            "                   vehicle.bus.rigid       1.00      0.98      0.99        66\n",
            "                         vehicle.car       0.99      1.00      0.99      1488\n",
            "                vehicle.construction       1.00      1.00      1.00        43\n",
            "                  vehicle.motorcycle       1.00      0.90      0.95       100\n",
            "                     vehicle.trailer       1.00      1.00      1.00        10\n",
            "                       vehicle.truck       0.95      0.92      0.94       135\n",
            "\n",
            "                            accuracy                           0.99      3708\n",
            "                           macro avg       0.95      0.94      0.95      3708\n",
            "                        weighted avg       0.99      0.99      0.99      3708\n",
            "\n"
          ]
        }
      ]
    },
    {
      "cell_type": "code",
      "source": [
        "# Make predictions on the test set\n",
        "y_test_pred = svm_model.predict(X_test)\n",
        "\n",
        "# Evaluate the model\n",
        "print(f\"Test Accuracy: {accuracy_score(y_test, y_test_pred)}\")\n",
        "print(classification_report(y_test, y_test_pred, target_names=unique_labels))\n"
      ],
      "metadata": {
        "colab": {
          "base_uri": "https://localhost:8080/"
        },
        "id": "0Pi1GvKDmejs",
        "outputId": "6edc6830-5544-4cc7-9071-7fa857fb0321"
      },
      "id": "0Pi1GvKDmejs",
      "execution_count": null,
      "outputs": [
        {
          "output_type": "stream",
          "name": "stdout",
          "text": [
            "Test Accuracy: 0.9919093851132686\n",
            "                                      precision    recall  f1-score   support\n",
            "\n",
            "              human.pedestrian.adult       0.99      1.00      0.99       961\n",
            "              human.pedestrian.child       0.67      0.40      0.50        10\n",
            "human.pedestrian.construction_worker       1.00      1.00      1.00        31\n",
            "  human.pedestrian.personal_mobility       1.00      1.00      1.00         4\n",
            "     human.pedestrian.police_officer       1.00      1.00      1.00         2\n",
            "              movable_object.barrier       1.00      1.00      1.00       445\n",
            "               movable_object.debris       1.00      1.00      1.00         2\n",
            "    movable_object.pushable_pullable       0.96      0.96      0.96        26\n",
            "          movable_object.trafficcone       1.00      1.00      1.00       281\n",
            "          static_object.bicycle_rack       1.00      1.00      1.00        11\n",
            "                     vehicle.bicycle       1.00      1.00      1.00        54\n",
            "                   vehicle.bus.bendy       1.00      1.00      1.00         9\n",
            "                   vehicle.bus.rigid       1.00      0.97      0.98        67\n",
            "                         vehicle.car       0.99      1.00      0.99      1543\n",
            "                vehicle.construction       1.00      1.00      1.00        43\n",
            "                  vehicle.motorcycle       0.98      0.94      0.96        96\n",
            "                     vehicle.trailer       1.00      1.00      1.00        11\n",
            "                       vehicle.truck       0.96      0.96      0.96       112\n",
            "\n",
            "                            accuracy                           0.99      3708\n",
            "                           macro avg       0.98      0.96      0.96      3708\n",
            "                        weighted avg       0.99      0.99      0.99      3708\n",
            "\n"
          ]
        }
      ]
    },
    {
      "cell_type": "code",
      "source": [
        "# Define the number of folds\n",
        "k = 10\n",
        "skf = StratifiedKFold(n_splits=k, shuffle=True, random_state=111)\n",
        "# Perform k-fold cross-validation\n",
        "scores = cross_val_score(svm_model, features, labels, cv=skf)\n",
        "# Print the cross-validation scores\n",
        "print(f\"Cross-validation scores: {scores}\")\n",
        "print(f\"Mean cross-validation score: {scores-mean}\")"
      ],
      "metadata": {
        "id": "autC_KBhpS1h",
        "colab": {
          "base_uri": "https://localhost:8080/",
          "height": 207
        },
        "outputId": "dbd5e36c-6057-41ab-8f33-e1bc9fe1d1f0"
      },
      "id": "autC_KBhpS1h",
      "execution_count": null,
      "outputs": [
        {
          "output_type": "error",
          "ename": "NameError",
          "evalue": "name 'svm_model' is not defined",
          "traceback": [
            "\u001b[0;31m---------------------------------------------------------------------------\u001b[0m",
            "\u001b[0;31mNameError\u001b[0m                                 Traceback (most recent call last)",
            "\u001b[0;32m<ipython-input-6-14a28300d8b3>\u001b[0m in \u001b[0;36m<cell line: 5>\u001b[0;34m()\u001b[0m\n\u001b[1;32m      3\u001b[0m \u001b[0mskf\u001b[0m \u001b[0;34m=\u001b[0m \u001b[0mStratifiedKFold\u001b[0m\u001b[0;34m(\u001b[0m\u001b[0mn_splits\u001b[0m\u001b[0;34m=\u001b[0m\u001b[0mk\u001b[0m\u001b[0;34m,\u001b[0m \u001b[0mshuffle\u001b[0m\u001b[0;34m=\u001b[0m\u001b[0;32mTrue\u001b[0m\u001b[0;34m,\u001b[0m \u001b[0mrandom_state\u001b[0m\u001b[0;34m=\u001b[0m\u001b[0;36m111\u001b[0m\u001b[0;34m)\u001b[0m\u001b[0;34m\u001b[0m\u001b[0;34m\u001b[0m\u001b[0m\n\u001b[1;32m      4\u001b[0m \u001b[0;31m# Perform k-fold cross-validation\u001b[0m\u001b[0;34m\u001b[0m\u001b[0;34m\u001b[0m\u001b[0m\n\u001b[0;32m----> 5\u001b[0;31m \u001b[0mscores\u001b[0m \u001b[0;34m=\u001b[0m \u001b[0mcross_val_score\u001b[0m\u001b[0;34m(\u001b[0m\u001b[0msvm_model\u001b[0m\u001b[0;34m,\u001b[0m \u001b[0mfeatures\u001b[0m\u001b[0;34m,\u001b[0m \u001b[0mlabels\u001b[0m\u001b[0;34m,\u001b[0m \u001b[0mcv\u001b[0m\u001b[0;34m=\u001b[0m\u001b[0mskf\u001b[0m\u001b[0;34m)\u001b[0m\u001b[0;34m\u001b[0m\u001b[0;34m\u001b[0m\u001b[0m\n\u001b[0m\u001b[1;32m      6\u001b[0m \u001b[0;31m# Print the cross-validation scores\u001b[0m\u001b[0;34m\u001b[0m\u001b[0;34m\u001b[0m\u001b[0m\n\u001b[1;32m      7\u001b[0m \u001b[0mprint\u001b[0m\u001b[0;34m(\u001b[0m\u001b[0;34mf\"Cross-validation scores: {scores}\"\u001b[0m\u001b[0;34m)\u001b[0m\u001b[0;34m\u001b[0m\u001b[0;34m\u001b[0m\u001b[0m\n",
            "\u001b[0;31mNameError\u001b[0m: name 'svm_model' is not defined"
          ]
        }
      ]
    }
  ],
  "metadata": {
    "kernelspec": {
      "display_name": "Python 3",
      "name": "python3"
    },
    "language_info": {
      "codemirror_mode": {
        "name": "ipython",
        "version": 3
      },
      "file_extension": ".py",
      "mimetype": "text/x-python",
      "name": "python",
      "nbconvert_exporter": "python",
      "pygments_lexer": "ipython3",
      "version": "3.10.12"
    },
    "colab": {
      "provenance": [],
      "include_colab_link": true
    }
  },
  "nbformat": 4,
  "nbformat_minor": 5
}