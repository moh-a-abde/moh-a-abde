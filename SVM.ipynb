{
  "cells": [
    {
      "cell_type": "markdown",
      "metadata": {
        "id": "view-in-github",
        "colab_type": "text"
      },
      "source": [
        "<a href=\"https://colab.research.google.com/github/moh-a-abde/moh-a-abde/blob/main/SVM.ipynb\" target=\"_parent\"><img src=\"https://colab.research.google.com/assets/colab-badge.svg\" alt=\"Open In Colab\"/></a>"
      ]
    },
    {
      "cell_type": "code",
      "execution_count": null,
      "id": "b7ab0eb6",
      "metadata": {
        "id": "b7ab0eb6"
      },
      "outputs": [],
      "source": [
        "#this function will input preprocessed encoded, complete, fully numerica data and send through a SVM\n",
        "\n",
        "#for more information about SVM:\n",
        "#SVM for imbalanced data classification:\n",
        "#https://machinelearningmastery.com/cost-sensitive-svm-for-imbalanced-classification/\n",
        "#Support Vector Machines for Machine Learning:\n",
        "#https://machinelearningmastery.com/support-vector-machines-for-machine-learning/\n",
        "#A tutorial on support Vector Machines for Pattern Recognition (PDF)\n",
        "#http://research.microsoft.com/en-us/um/people/cburges/papers/svmtutorial.pdf\n",
        "#Support Vector Machines from the SCIKIT Learn Documentation\n",
        "#https://scikit-learn.org/stable/modules/svm.html\n",
        "#https://www.analyticsvidhya.com/blog/2017/09/understaing-support-vector-machine-example-code/"
      ]
    },
    {
      "cell_type": "code",
      "execution_count": null,
      "id": "1dfb44a4",
      "metadata": {
        "id": "1dfb44a4"
      },
      "outputs": [],
      "source": [
        "#import libraries\n",
        "import time\n",
        "import os\n",
        "\n",
        "import numpy as np\n",
        "from numpy.random import randn\n",
        "import pandas as pd\n",
        "\n",
        "import math\n",
        "from math import sqrt\n",
        "\n",
        "import matplotlib.pyplot as plt\n",
        "from matplotlib import pyplot\n",
        "import seaborn as sns\n",
        "\n",
        "\n",
        "import sklearn.preprocessing\n",
        "from sklearn.preprocessing import StandardScaler, MinMaxScaler\n",
        "from sklearn.model_selection import train_test_split\n",
        "from sklearn import metrics\n",
        "from sklearn.metrics import accuracy_score, precision_score, f1_score, recall_score, multilabel_confusion_matrix\n",
        "from sklearn.metrics import classification_report, mean_squared_error, confusion_matrix, balanced_accuracy_score\n",
        "from sklearn.svm import SVC\n",
        "from sklearn.multiclass import OneVsRestClassifier, OneVsOneClassifier"
      ]
    },
    {
      "cell_type": "code",
      "execution_count": null,
      "id": "cd32abfc",
      "metadata": {
        "colab": {
          "base_uri": "https://localhost:8080/"
        },
        "id": "cd32abfc",
        "outputId": "39f41b93-4392-4766-cf41-3610eb5c8b25"
      },
      "outputs": [
        {
          "output_type": "execute_result",
          "data": {
            "text/plain": [
              "(284557, 12)"
            ]
          },
          "metadata": {},
          "execution_count": 3
        }
      ],
      "source": [
        "#read the preprocessed data file\n",
        "data = pd.read_csv('/content/Sensor_Final_Pre.csv')\n",
        "\n",
        "#check data dimensions\n",
        "data.shape"
      ]
    },
    {
      "cell_type": "code",
      "source": [
        "from google.colab import drive\n",
        "drive.mount('/content/drive')"
      ],
      "metadata": {
        "id": "kI0BaChRIUSJ"
      },
      "id": "kI0BaChRIUSJ",
      "execution_count": null,
      "outputs": []
    },
    {
      "cell_type": "code",
      "execution_count": null,
      "id": "64faf69e",
      "metadata": {
        "colab": {
          "base_uri": "https://localhost:8080/",
          "height": 224
        },
        "id": "64faf69e",
        "outputId": "c9f89c96-fb59-4943-a610-58e05ee2ce99"
      },
      "outputs": [
        {
          "output_type": "execute_result",
          "data": {
            "text/plain": [
              "   id_orig_h  id_orig_p  id_resp_h  id_resp_p  proto  conn_state  history  \\\n",
              "0          6      37495         72      24582      1           1      289   \n",
              "1         36       6253         73      12722      1           0      275   \n",
              "2         14      43543        118       2759      2           0        2   \n",
              "3         13      16336        120      24147      2           6      262   \n",
              "4         16      45414        128        349      1          10      351   \n",
              "\n",
              "   orig_pkts  orig_ip_bytes  resp_pkts  resp_ip_bytes  label  \n",
              "0          1             60          1             40      2  \n",
              "1          1             40          0              0      1  \n",
              "2          0              0          0              0      0  \n",
              "3          1            112          0              0      0  \n",
              "4          1             52         47          51466      0  "
            ],
            "text/html": [
              "\n",
              "  <div id=\"df-174d66e4-4a1f-47b0-b0cb-823c03906a1c\" class=\"colab-df-container\">\n",
              "    <div>\n",
              "<style scoped>\n",
              "    .dataframe tbody tr th:only-of-type {\n",
              "        vertical-align: middle;\n",
              "    }\n",
              "\n",
              "    .dataframe tbody tr th {\n",
              "        vertical-align: top;\n",
              "    }\n",
              "\n",
              "    .dataframe thead th {\n",
              "        text-align: right;\n",
              "    }\n",
              "</style>\n",
              "<table border=\"1\" class=\"dataframe\">\n",
              "  <thead>\n",
              "    <tr style=\"text-align: right;\">\n",
              "      <th></th>\n",
              "      <th>id_orig_h</th>\n",
              "      <th>id_orig_p</th>\n",
              "      <th>id_resp_h</th>\n",
              "      <th>id_resp_p</th>\n",
              "      <th>proto</th>\n",
              "      <th>conn_state</th>\n",
              "      <th>history</th>\n",
              "      <th>orig_pkts</th>\n",
              "      <th>orig_ip_bytes</th>\n",
              "      <th>resp_pkts</th>\n",
              "      <th>resp_ip_bytes</th>\n",
              "      <th>label</th>\n",
              "    </tr>\n",
              "  </thead>\n",
              "  <tbody>\n",
              "    <tr>\n",
              "      <th>0</th>\n",
              "      <td>6</td>\n",
              "      <td>37495</td>\n",
              "      <td>72</td>\n",
              "      <td>24582</td>\n",
              "      <td>1</td>\n",
              "      <td>1</td>\n",
              "      <td>289</td>\n",
              "      <td>1</td>\n",
              "      <td>60</td>\n",
              "      <td>1</td>\n",
              "      <td>40</td>\n",
              "      <td>2</td>\n",
              "    </tr>\n",
              "    <tr>\n",
              "      <th>1</th>\n",
              "      <td>36</td>\n",
              "      <td>6253</td>\n",
              "      <td>73</td>\n",
              "      <td>12722</td>\n",
              "      <td>1</td>\n",
              "      <td>0</td>\n",
              "      <td>275</td>\n",
              "      <td>1</td>\n",
              "      <td>40</td>\n",
              "      <td>0</td>\n",
              "      <td>0</td>\n",
              "      <td>1</td>\n",
              "    </tr>\n",
              "    <tr>\n",
              "      <th>2</th>\n",
              "      <td>14</td>\n",
              "      <td>43543</td>\n",
              "      <td>118</td>\n",
              "      <td>2759</td>\n",
              "      <td>2</td>\n",
              "      <td>0</td>\n",
              "      <td>2</td>\n",
              "      <td>0</td>\n",
              "      <td>0</td>\n",
              "      <td>0</td>\n",
              "      <td>0</td>\n",
              "      <td>0</td>\n",
              "    </tr>\n",
              "    <tr>\n",
              "      <th>3</th>\n",
              "      <td>13</td>\n",
              "      <td>16336</td>\n",
              "      <td>120</td>\n",
              "      <td>24147</td>\n",
              "      <td>2</td>\n",
              "      <td>6</td>\n",
              "      <td>262</td>\n",
              "      <td>1</td>\n",
              "      <td>112</td>\n",
              "      <td>0</td>\n",
              "      <td>0</td>\n",
              "      <td>0</td>\n",
              "    </tr>\n",
              "    <tr>\n",
              "      <th>4</th>\n",
              "      <td>16</td>\n",
              "      <td>45414</td>\n",
              "      <td>128</td>\n",
              "      <td>349</td>\n",
              "      <td>1</td>\n",
              "      <td>10</td>\n",
              "      <td>351</td>\n",
              "      <td>1</td>\n",
              "      <td>52</td>\n",
              "      <td>47</td>\n",
              "      <td>51466</td>\n",
              "      <td>0</td>\n",
              "    </tr>\n",
              "  </tbody>\n",
              "</table>\n",
              "</div>\n",
              "    <div class=\"colab-df-buttons\">\n",
              "\n",
              "  <div class=\"colab-df-container\">\n",
              "    <button class=\"colab-df-convert\" onclick=\"convertToInteractive('df-174d66e4-4a1f-47b0-b0cb-823c03906a1c')\"\n",
              "            title=\"Convert this dataframe to an interactive table.\"\n",
              "            style=\"display:none;\">\n",
              "\n",
              "  <svg xmlns=\"http://www.w3.org/2000/svg\" height=\"24px\" viewBox=\"0 -960 960 960\">\n",
              "    <path d=\"M120-120v-720h720v720H120Zm60-500h600v-160H180v160Zm220 220h160v-160H400v160Zm0 220h160v-160H400v160ZM180-400h160v-160H180v160Zm440 0h160v-160H620v160ZM180-180h160v-160H180v160Zm440 0h160v-160H620v160Z\"/>\n",
              "  </svg>\n",
              "    </button>\n",
              "\n",
              "  <style>\n",
              "    .colab-df-container {\n",
              "      display:flex;\n",
              "      gap: 12px;\n",
              "    }\n",
              "\n",
              "    .colab-df-convert {\n",
              "      background-color: #E8F0FE;\n",
              "      border: none;\n",
              "      border-radius: 50%;\n",
              "      cursor: pointer;\n",
              "      display: none;\n",
              "      fill: #1967D2;\n",
              "      height: 32px;\n",
              "      padding: 0 0 0 0;\n",
              "      width: 32px;\n",
              "    }\n",
              "\n",
              "    .colab-df-convert:hover {\n",
              "      background-color: #E2EBFA;\n",
              "      box-shadow: 0px 1px 2px rgba(60, 64, 67, 0.3), 0px 1px 3px 1px rgba(60, 64, 67, 0.15);\n",
              "      fill: #174EA6;\n",
              "    }\n",
              "\n",
              "    .colab-df-buttons div {\n",
              "      margin-bottom: 4px;\n",
              "    }\n",
              "\n",
              "    [theme=dark] .colab-df-convert {\n",
              "      background-color: #3B4455;\n",
              "      fill: #D2E3FC;\n",
              "    }\n",
              "\n",
              "    [theme=dark] .colab-df-convert:hover {\n",
              "      background-color: #434B5C;\n",
              "      box-shadow: 0px 1px 3px 1px rgba(0, 0, 0, 0.15);\n",
              "      filter: drop-shadow(0px 1px 2px rgba(0, 0, 0, 0.3));\n",
              "      fill: #FFFFFF;\n",
              "    }\n",
              "  </style>\n",
              "\n",
              "    <script>\n",
              "      const buttonEl =\n",
              "        document.querySelector('#df-174d66e4-4a1f-47b0-b0cb-823c03906a1c button.colab-df-convert');\n",
              "      buttonEl.style.display =\n",
              "        google.colab.kernel.accessAllowed ? 'block' : 'none';\n",
              "\n",
              "      async function convertToInteractive(key) {\n",
              "        const element = document.querySelector('#df-174d66e4-4a1f-47b0-b0cb-823c03906a1c');\n",
              "        const dataTable =\n",
              "          await google.colab.kernel.invokeFunction('convertToInteractive',\n",
              "                                                    [key], {});\n",
              "        if (!dataTable) return;\n",
              "\n",
              "        const docLinkHtml = 'Like what you see? Visit the ' +\n",
              "          '<a target=\"_blank\" href=https://colab.research.google.com/notebooks/data_table.ipynb>data table notebook</a>'\n",
              "          + ' to learn more about interactive tables.';\n",
              "        element.innerHTML = '';\n",
              "        dataTable['output_type'] = 'display_data';\n",
              "        await google.colab.output.renderOutput(dataTable, element);\n",
              "        const docLink = document.createElement('div');\n",
              "        docLink.innerHTML = docLinkHtml;\n",
              "        element.appendChild(docLink);\n",
              "      }\n",
              "    </script>\n",
              "  </div>\n",
              "\n",
              "\n",
              "<div id=\"df-5ab504fa-6d5e-4886-a682-1447a42135a0\">\n",
              "  <button class=\"colab-df-quickchart\" onclick=\"quickchart('df-5ab504fa-6d5e-4886-a682-1447a42135a0')\"\n",
              "            title=\"Suggest charts\"\n",
              "            style=\"display:none;\">\n",
              "\n",
              "<svg xmlns=\"http://www.w3.org/2000/svg\" height=\"24px\"viewBox=\"0 0 24 24\"\n",
              "     width=\"24px\">\n",
              "    <g>\n",
              "        <path d=\"M19 3H5c-1.1 0-2 .9-2 2v14c0 1.1.9 2 2 2h14c1.1 0 2-.9 2-2V5c0-1.1-.9-2-2-2zM9 17H7v-7h2v7zm4 0h-2V7h2v10zm4 0h-2v-4h2v4z\"/>\n",
              "    </g>\n",
              "</svg>\n",
              "  </button>\n",
              "\n",
              "<style>\n",
              "  .colab-df-quickchart {\n",
              "      --bg-color: #E8F0FE;\n",
              "      --fill-color: #1967D2;\n",
              "      --hover-bg-color: #E2EBFA;\n",
              "      --hover-fill-color: #174EA6;\n",
              "      --disabled-fill-color: #AAA;\n",
              "      --disabled-bg-color: #DDD;\n",
              "  }\n",
              "\n",
              "  [theme=dark] .colab-df-quickchart {\n",
              "      --bg-color: #3B4455;\n",
              "      --fill-color: #D2E3FC;\n",
              "      --hover-bg-color: #434B5C;\n",
              "      --hover-fill-color: #FFFFFF;\n",
              "      --disabled-bg-color: #3B4455;\n",
              "      --disabled-fill-color: #666;\n",
              "  }\n",
              "\n",
              "  .colab-df-quickchart {\n",
              "    background-color: var(--bg-color);\n",
              "    border: none;\n",
              "    border-radius: 50%;\n",
              "    cursor: pointer;\n",
              "    display: none;\n",
              "    fill: var(--fill-color);\n",
              "    height: 32px;\n",
              "    padding: 0;\n",
              "    width: 32px;\n",
              "  }\n",
              "\n",
              "  .colab-df-quickchart:hover {\n",
              "    background-color: var(--hover-bg-color);\n",
              "    box-shadow: 0 1px 2px rgba(60, 64, 67, 0.3), 0 1px 3px 1px rgba(60, 64, 67, 0.15);\n",
              "    fill: var(--button-hover-fill-color);\n",
              "  }\n",
              "\n",
              "  .colab-df-quickchart-complete:disabled,\n",
              "  .colab-df-quickchart-complete:disabled:hover {\n",
              "    background-color: var(--disabled-bg-color);\n",
              "    fill: var(--disabled-fill-color);\n",
              "    box-shadow: none;\n",
              "  }\n",
              "\n",
              "  .colab-df-spinner {\n",
              "    border: 2px solid var(--fill-color);\n",
              "    border-color: transparent;\n",
              "    border-bottom-color: var(--fill-color);\n",
              "    animation:\n",
              "      spin 1s steps(1) infinite;\n",
              "  }\n",
              "\n",
              "  @keyframes spin {\n",
              "    0% {\n",
              "      border-color: transparent;\n",
              "      border-bottom-color: var(--fill-color);\n",
              "      border-left-color: var(--fill-color);\n",
              "    }\n",
              "    20% {\n",
              "      border-color: transparent;\n",
              "      border-left-color: var(--fill-color);\n",
              "      border-top-color: var(--fill-color);\n",
              "    }\n",
              "    30% {\n",
              "      border-color: transparent;\n",
              "      border-left-color: var(--fill-color);\n",
              "      border-top-color: var(--fill-color);\n",
              "      border-right-color: var(--fill-color);\n",
              "    }\n",
              "    40% {\n",
              "      border-color: transparent;\n",
              "      border-right-color: var(--fill-color);\n",
              "      border-top-color: var(--fill-color);\n",
              "    }\n",
              "    60% {\n",
              "      border-color: transparent;\n",
              "      border-right-color: var(--fill-color);\n",
              "    }\n",
              "    80% {\n",
              "      border-color: transparent;\n",
              "      border-right-color: var(--fill-color);\n",
              "      border-bottom-color: var(--fill-color);\n",
              "    }\n",
              "    90% {\n",
              "      border-color: transparent;\n",
              "      border-bottom-color: var(--fill-color);\n",
              "    }\n",
              "  }\n",
              "</style>\n",
              "\n",
              "  <script>\n",
              "    async function quickchart(key) {\n",
              "      const quickchartButtonEl =\n",
              "        document.querySelector('#' + key + ' button');\n",
              "      quickchartButtonEl.disabled = true;  // To prevent multiple clicks.\n",
              "      quickchartButtonEl.classList.add('colab-df-spinner');\n",
              "      try {\n",
              "        const charts = await google.colab.kernel.invokeFunction(\n",
              "            'suggestCharts', [key], {});\n",
              "      } catch (error) {\n",
              "        console.error('Error during call to suggestCharts:', error);\n",
              "      }\n",
              "      quickchartButtonEl.classList.remove('colab-df-spinner');\n",
              "      quickchartButtonEl.classList.add('colab-df-quickchart-complete');\n",
              "    }\n",
              "    (() => {\n",
              "      let quickchartButtonEl =\n",
              "        document.querySelector('#df-5ab504fa-6d5e-4886-a682-1447a42135a0 button');\n",
              "      quickchartButtonEl.style.display =\n",
              "        google.colab.kernel.accessAllowed ? 'block' : 'none';\n",
              "    })();\n",
              "  </script>\n",
              "</div>\n",
              "\n",
              "    </div>\n",
              "  </div>\n"
            ],
            "application/vnd.google.colaboratory.intrinsic+json": {
              "type": "dataframe",
              "variable_name": "data"
            }
          },
          "metadata": {},
          "execution_count": 4
        }
      ],
      "source": [
        "data.head()"
      ]
    },
    {
      "cell_type": "code",
      "execution_count": null,
      "id": "824c7c68",
      "metadata": {
        "id": "824c7c68"
      },
      "outputs": [],
      "source": [
        "#determine the features (X) and the labels to classify (y)\n",
        "X = data.drop(['label'], axis = 1).values # X are features\n",
        "y = data['label'].values                  # Y is the label (what we are classifying)"
      ]
    },
    {
      "cell_type": "code",
      "source": [
        "from sklearn.model_selection import train_test_split\n",
        "from sklearn.preprocessing import MinMaxScaler\n",
        "import cuml\n",
        "from cuml.svm import SVC as cuSVC\n",
        "import time\n",
        "\n",
        "\n",
        "# split data into training and remaining (validation + testing)\n",
        "# first split (80% training, 20% remaining)\n",
        "X_train, X_remaining, y_train, y_remaining = train_test_split(X, y, test_size=0.20)\n",
        "\n",
        "# split the remaining data into validation and testing\n",
        "# second split (50% of remaining for validation, 50% for testing)\n",
        "X_val, X_test, y_val, y_test = train_test_split(X_remaining, y_remaining, test_size=0.50)\n",
        "\n",
        "# normalize the data\n",
        "sc = MinMaxScaler()\n",
        "X_train = sc.fit_transform(X_train)\n",
        "X_val = sc.transform(X_val)  # note: use transform, not fit_transform\n",
        "X_test = sc.transform(X_test)  # note: use transform, not fit_transform\n",
        "\n",
        "# start train time\n",
        "startTrainTime = time.time()\n",
        "\n",
        "# fit GPU-accelerated SVM to the training set\n",
        "classifier = cuSVC(kernel='rbf', C=10, gamma=0.01)\n",
        "classifier.fit(X_train, y_train)\n",
        "\n",
        "# end train time\n",
        "TrainTime = (time.time() - startTrainTime)\n",
        "\n",
        "# start test time\n",
        "startTestTime = time.time()\n",
        "\n",
        "# test model on validation set\n",
        "y_val_pred = classifier.predict(X_val)\n",
        "\n",
        "# end validation time\n",
        "ValTime = (time.time() - startTestTime)\n",
        "\n",
        "# start test time for test set\n",
        "startTestTime = time.time()\n",
        "\n",
        "# test model on test set\n",
        "y_test_pred = classifier.predict(X_test)\n",
        "\n",
        "# end test time\n",
        "TestTime = (time.time() - startTestTime)"
      ],
      "metadata": {
        "colab": {
          "base_uri": "https://localhost:8080/"
        },
        "id": "51LQqOfQAvw0",
        "outputId": "07ee312f-8375-4ba0-b3c6-9ea5b054b9f9"
      },
      "id": "51LQqOfQAvw0",
      "execution_count": null,
      "outputs": [
        {
          "output_type": "stream",
          "name": "stdout",
          "text": [
            "Training time:  7.07601261138916\n",
            "Validation prediction time:  0.6614322662353516\n",
            "Test prediction time:  0.300814151763916\n"
          ]
        }
      ]
    },
    {
      "cell_type": "code",
      "execution_count": null,
      "id": "6f735a44",
      "metadata": {
        "scrolled": true,
        "colab": {
          "base_uri": "https://localhost:8080/"
        },
        "id": "6f735a44",
        "outputId": "fb5f363d-ecef-4674-a4d0-0c4edf7b10f1"
      },
      "outputs": [
        {
          "output_type": "stream",
          "name": "stdout",
          "text": [
            "Train time in seconds:  7.07601261138916\n",
            "Validation prediction time in seconds:  0.6614322662353516\n",
            "Test time in seconds:  0.300814151763916\n",
            "Balanced Accuracy:  99.59787809285527\n",
            "Precision:  99.65810574374507\n",
            "F1:  99.62736686005461\n",
            "Recall:  99.59787809285527\n",
            "RMSE:  0.08278094494979503\n"
          ]
        }
      ],
      "source": [
        "# Calculate metrics\n",
        "precision = precision_score(y_test, y_test_pred, average='macro')\n",
        "bal_accuracy = balanced_accuracy_score(y_test, y_test_pred)\n",
        "f1 = f1_score(y_test, y_test_pred, average='macro')\n",
        "recall = recall_score(y_test, y_test_pred, average='macro')\n",
        "MeanSq = sqrt(mean_squared_error(y_test, y_test_pred))\n",
        "\n",
        "# Print training and testing times\n",
        "print('Train time in seconds: ', TrainTime)\n",
        "print('Validation prediction time in seconds: ', ValTime)\n",
        "print('Test time in seconds: ', TestTime)\n",
        "\n",
        "# Print metrics\n",
        "print('Balanced Accuracy: ', bal_accuracy * 100.00)\n",
        "print('Precision: ', precision * 100.00)\n",
        "print('F1: ', f1 * 100.00)\n",
        "print('Recall: ', recall * 100.00)\n",
        "print('RMSE: ', MeanSq)"
      ]
    },
    {
      "cell_type": "code",
      "execution_count": null,
      "id": "f45da90e",
      "metadata": {
        "colab": {
          "base_uri": "https://localhost:8080/"
        },
        "id": "f45da90e",
        "outputId": "8802a1ee-6bf3-4477-e463-08b81f12c4b8"
      },
      "outputs": [
        {
          "output_type": "stream",
          "name": "stdout",
          "text": [
            "              precision    recall  f1-score   support\n",
            "\n",
            "           0     0.9955    0.9973    0.9964     14321\n",
            "           1     0.9984    0.9909    0.9947      7066\n",
            "           2     0.9958    0.9997    0.9977      7069\n",
            "\n",
            "    accuracy                         0.9963     28456\n",
            "   macro avg     0.9966    0.9960    0.9963     28456\n",
            "weighted avg     0.9963    0.9963    0.9963     28456\n",
            "\n"
          ]
        }
      ],
      "source": [
        "print(classification_report(y_test, y_test_pred, digits=4))"
      ]
    },
    {
      "cell_type": "code",
      "execution_count": null,
      "id": "12cc064a",
      "metadata": {
        "colab": {
          "base_uri": "https://localhost:8080/"
        },
        "id": "12cc064a",
        "outputId": "f9d76a8a-a7c0-4b0f-a783-f11310802e44"
      },
      "outputs": [
        {
          "output_type": "stream",
          "name": "stdout",
          "text": [
            "[2 1 0]\n"
          ]
        }
      ],
      "source": [
        "#see how many unique labels\n",
        "label = (data['label']).unique()\n",
        "print(label)"
      ]
    },
    {
      "cell_type": "code",
      "execution_count": null,
      "id": "0f727a76",
      "metadata": {
        "colab": {
          "base_uri": "https://localhost:8080/",
          "height": 463
        },
        "id": "0f727a76",
        "outputId": "f293a536-0378-492b-8c04-770ea74e1f3e"
      },
      "outputs": [
        {
          "output_type": "stream",
          "name": "stdout",
          "text": [
            "142318\n",
            "71111\n",
            "71128\n"
          ]
        },
        {
          "output_type": "display_data",
          "data": {
            "text/plain": [
              "<Figure size 640x480 with 1 Axes>"
            ],
            "image/png": "[encoded data removed]"
          },
          "metadata": {}
        }
      ],
      "source": [
        "#data visualization\n",
        "#plots the distribution of the labels from our data\n",
        "zero = (data['label'] == 0).sum()\n",
        "print(zero)\n",
        "one = (data['label'] == 1).sum()\n",
        "print(one)\n",
        "two = (data['label'] == 2).sum()\n",
        "print(two)\n",
        "\n",
        "#Data to plot for label column\n",
        "labels = 'Benign', 'DDOS', 'PortScan'\n",
        "sizes = [zero, one, two]\n",
        "\n",
        "# Plot\n",
        "plt.pie(sizes, labels=labels,\n",
        "autopct='%1.1f%%', shadow=True, startangle=140)\n",
        "plt.axis('equal')\n",
        "plt.show()"
      ]
    }
  ],
  "metadata": {
    "kernelspec": {
      "display_name": "Python 3",
      "name": "python3"
    },
    "language_info": {
      "codemirror_mode": {
        "name": "ipython",
        "version": 3
      },
      "file_extension": ".py",
      "mimetype": "text/x-python",
      "name": "python",
      "nbconvert_exporter": "python",
      "pygments_lexer": "ipython3",
      "version": "3.10.12"
    },
    "colab": {
      "provenance": [],
      "gpuType": "T4",
      "include_colab_link": true
    },
    "accelerator": "GPU"
  },
  "nbformat": 4,
  "nbformat_minor": 5
}